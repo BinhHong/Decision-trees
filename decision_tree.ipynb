{
 "cells": [
  {
   "cell_type": "code",
   "execution_count": 2,
   "id": "d0f1dcdf",
   "metadata": {},
   "outputs": [],
   "source": [
    "import matplotlib.pyplot as plt\n",
    "import numpy as np"
   ]
  },
  {
   "cell_type": "markdown",
   "id": "e88a7879",
   "metadata": {},
   "source": [
    "# 1. Entropy function"
   ]
  },
  {
   "cell_type": "code",
   "execution_count": 3,
   "id": "ccf24025",
   "metadata": {},
   "outputs": [],
   "source": [
    "x = np.linspace(0.1,0.9,50)\n",
    "y = -x*np.log2(x) - (1-x)*np.log2(1-x)"
   ]
  },
  {
   "cell_type": "code",
   "execution_count": 4,
   "id": "72ef5b91",
   "metadata": {},
   "outputs": [
    {
     "data": {
      "text/plain": [
       "array([0.1       , 0.11632653, 0.13265306, 0.14897959, 0.16530612,\n",
       "       0.18163265, 0.19795918, 0.21428571, 0.23061224, 0.24693878,\n",
       "       0.26326531, 0.27959184, 0.29591837, 0.3122449 , 0.32857143,\n",
       "       0.34489796, 0.36122449, 0.37755102, 0.39387755, 0.41020408,\n",
       "       0.42653061, 0.44285714, 0.45918367, 0.4755102 , 0.49183673,\n",
       "       0.50816327, 0.5244898 , 0.54081633, 0.55714286, 0.57346939,\n",
       "       0.58979592, 0.60612245, 0.62244898, 0.63877551, 0.65510204,\n",
       "       0.67142857, 0.6877551 , 0.70408163, 0.72040816, 0.73673469,\n",
       "       0.75306122, 0.76938776, 0.78571429, 0.80204082, 0.81836735,\n",
       "       0.83469388, 0.85102041, 0.86734694, 0.88367347, 0.9       ])"
      ]
     },
     "execution_count": 4,
     "metadata": {},
     "output_type": "execute_result"
    }
   ],
   "source": [
    "x"
   ]
  },
  {
   "cell_type": "code",
   "execution_count": 5,
   "id": "cac73e32",
   "metadata": {},
   "outputs": [
    {
     "data": {
      "text/plain": [
       "array([0.46899559, 0.51870859, 0.56466958, 0.60728083, 0.6468537 ,\n",
       "       0.68363569, 0.71782764, 0.74959526, 0.77907706, 0.80639005,\n",
       "       0.8316339 , 0.85489406, 0.87624417, 0.89574783, 0.91346015,\n",
       "       0.92942878, 0.94369492, 0.95629401, 0.96725633, 0.97660751,\n",
       "       0.98436885, 0.9905577 , 0.99518767, 0.99826879, 0.99980771,\n",
       "       0.99980771, 0.99826879, 0.99518767, 0.9905577 , 0.98436885,\n",
       "       0.97660751, 0.96725633, 0.95629401, 0.94369492, 0.92942878,\n",
       "       0.91346015, 0.89574783, 0.87624417, 0.85489406, 0.8316339 ,\n",
       "       0.80639005, 0.77907706, 0.74959526, 0.71782764, 0.68363569,\n",
       "       0.6468537 , 0.60728083, 0.56466958, 0.51870859, 0.46899559])"
      ]
     },
     "execution_count": 5,
     "metadata": {},
     "output_type": "execute_result"
    }
   ],
   "source": [
    "y"
   ]
  },
  {
   "cell_type": "code",
   "execution_count": 6,
   "id": "e2f4a92d",
   "metadata": {},
   "outputs": [
    {
     "data": {
      "text/plain": [
       "[<matplotlib.lines.Line2D at 0x1836c779f70>]"
      ]
     },
     "execution_count": 6,
     "metadata": {},
     "output_type": "execute_result"
    },
    {
     "data": {
      "image/png": "[encoded data removed]",
      "text/plain": [
       "<Figure size 432x288 with 1 Axes>"
      ]
     },
     "metadata": {
      "needs_background": "light"
     },
     "output_type": "display_data"
    }
   ],
   "source": [
    "plt.plot(x,y)"
   ]
  },
  {
   "cell_type": "code",
   "execution_count": null,
   "id": "1d54b787",
   "metadata": {},
   "outputs": [],
   "source": []
  }
 ],
 "metadata": {
  "kernelspec": {
   "display_name": "Python 3 (ipykernel)",
   "language": "python",
   "name": "python3"
  },
  "language_info": {
   "codemirror_mode": {
    "name": "ipython",
    "version": 3
   },
   "file_extension": ".py",
   "mimetype": "text/x-python",
   "name": "python",
   "nbconvert_exporter": "python",
   "pygments_lexer": "ipython3",
   "version": "3.9.7"
  }
 },
 "nbformat": 4,
 "nbformat_minor": 5
}
